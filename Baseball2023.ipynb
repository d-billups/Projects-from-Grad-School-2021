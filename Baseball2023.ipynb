{
 "cells": [
  {
   "cell_type": "markdown",
   "id": "a0b92098",
   "metadata": {},
   "source": [
    "In this problem, you will be using the Baseball Databank provided by Sean Lahman. This data is already in the data/baseballdatabank2017.1/core/ directory. It contains a collection of tables. The immediate goal will be to create a dataframe that has the following information for each baseball player:\n",
    "\n",
    "Batting statistics (to be described)\n",
    "Fielding statistics (to be described)\n",
    "Pitching statistics (to be described)\n",
    "Their salaries\n",
    "The teams they played for\n",
    "Their full names: First Middle Last\n",
    "Their heights and weights\n",
    "The dataset has a data dictionary available at:\n",
    "\n",
    "../data/baseballdatabank-2017.1/core/readme2014.txt\n",
    "The data and tables you will need are:\n",
    "\n",
    "Batting.csv\n",
    "The number of games played and at bats\n",
    "The number of runs, hits, doubles, triples, homeruns, RBIs, strikeouts, and times hit by\n",
    "\n",
    "Fielding.csv\n",
    "The number of games played\n",
    "The number of opponents put out, assisted outs, and fielding errors\n",
    "\n",
    "Master.csv\n",
    "Their full names\n",
    "Their heights and weights\n",
    "\n",
    "Pitching.csv\n",
    "The number of games played, won, lost\n",
    "The number of strikeouts, hits, earned runs, homeruns, and batters hit by pitches\n",
    "\n",
    "Salaries.csv\n",
    "The players salary\n",
    "\n",
    "Teams.csv\n",
    "The name of the player's team\n",
    "The year the team was named its name\n"
   ]
  },
  {
   "cell_type": "code",
   "execution_count": null,
   "id": "0a34e072",
   "metadata": {},
   "outputs": [],
   "source": [
    "import pandas as pd\n",
    "\n",
    "def load_columns_of_interest(path_to_databank_core = 'data/baseballdatabank2017.1/core/'):\n",
    "    (appearances_file, batting_file, \n",
    "     fielding_file, master_file, pitching_file, \n",
    "     salaries_file, teams_file) = [path_to_databank_core + table_file\n",
    "                                   for table_file in [\"Appearances.csv\", \"Batting.csv\", \n",
    "                                                      \"Fielding.csv\", \"Master.csv\", \n",
    "                                                      \"Pitching.csv\", \"Salaries.csv\", \n",
    "                                                      \"Teams.csv\"]] \n",
    "    batting = pd.read_csv(batting_file,header=0)[['playerID','yearID','teamID','G','AB','R','H','2B','3B','HR','RBI','SO','HBP']]\n",
    "    master = pd.read_csv(master_file,header=0)[['playerID','nameFirst','nameLast','weight','height']]\n",
    "    pitching = pd.read_csv(pitching_file,header=0)[['playerID','yearID','teamID','W','L','G','H','ER','HR','HBP','SO']]\n",
    "    fielding = pd.read_csv(fielding_file,header=0)[['playerID','yearID','teamID','G','PO','A','E']]\n",
    "    salaries = pd.read_csv(salaries_file,header=0)[['yearID','teamID','playerID','salary']]\n",
    "    teams = pd.read_csv(teams_file,header=0)[['teamID','name','yearID']]\n",
    "    appearances = pd.read_csv(appearances_file, header = 0)[['yearID','teamID','playerID']]\n",
    "    \n",
    "    return [batting, master, pitching, fielding, salaries, teams, appearances]"
   ]
  },
  {
   "cell_type": "code",
   "execution_count": 38,
   "id": "4754e2b4",
   "metadata": {},
   "outputs": [],
   "source": [
    "baseball_data = load_columns_of_interest('data/baseballdatabank2017.1/core/')\n",
    "\n",
    "#Isolate list items to create dataframes\n",
    "\n",
    "batting = baseball_data[0]\n",
    "master =baseball_data[1]\n",
    "pitching = baseball_data[2]\n",
    "fielding = baseball_data[3]\n",
    "salaries = baseball_data[4]\n",
    "teams = baseball_data[5]\n",
    "appearances = baseball_data[6]\n",
    "\n",
    "#Change from list item to DataFrame \n",
    "\n",
    "pitch = pd.DataFrame(pitching)\n",
    "bat = pd.DataFrame(batting)\n",
    "mast_df = pd.DataFrame(master)\n",
    "field = pd.DataFrame(fielding)\n",
    "appear = pd.DataFrame(appearances)\n",
    "team = pd.DataFrame(teams)\n",
    "salary = pd.DataFrame(salaries)\n",
    "\n",
    "#Group for next step\n",
    "\n",
    "all = (pitch, bat, mast_df, field, appear, team, salary)\n"
   ]
  },
  {
   "cell_type": "code",
   "execution_count": 39,
   "id": "ec0bd154",
   "metadata": {},
   "outputs": [],
   "source": [
    "#Filter by year\n",
    "def FilterByYear(year, all):\n",
    "  \n",
    "    ff = field[field['yearID']==year]\n",
    "    bf = bat[bat['yearID']==year]\n",
    "    pf = pitch[pitch['yearID']==year]\n",
    "    af = appear[appear['yearID']==year]\n",
    "    mf = mast_df\n",
    "    tf = team[team['yearID']==year]\n",
    "    sf = salary[salary['yearID']==year]\n",
    "    \n",
    "    \n",
    "    return(ff, bf, pf, af, mf, tf, sf)"
   ]
  },
  {
   "cell_type": "code",
   "execution_count": 43,
   "id": "8cd3641a",
   "metadata": {},
   "outputs": [
    {
     "name": "stdout",
     "output_type": "stream",
     "text": [
      "      yearID teamID   playerID  salary\n",
      "1288    1987    ATL  ackerji01  350000\n",
      "1289    1987    ATL  alexado01  650000\n",
      "1290    1987    ATL  assenpa01   80000\n",
      "1291    1987    ATL  barkele01  890000\n",
      "1292    1987    ATL  benedbr01  615000\n"
     ]
    }
   ],
   "source": [
    "#Sanity Check\n",
    "\n",
    "print(FilterByYear(1987, all)[-1].head())"
   ]
  },
  {
   "cell_type": "code",
   "execution_count": 87,
   "id": "2ffe593b",
   "metadata": {},
   "outputs": [],
   "source": [
    "def MergeTables(year, all):\n",
    "    \n",
    "    (ff, bf, pf, af, mf, tf, sf) = FilterByYear(year, all)\n",
    "    \n",
    " \n",
    "    merged = af.merge(bf, on=['playerID','yearID','teamID'], how='left')\n",
    "    #---your code stops here---\n",
    "    \n",
    "    \n",
    "    ## merge on the fielding data\n",
    "    #---your code starts here---\n",
    "    merged = merged.merge(ff, on=['playerID','yearID','teamID'], how='left', suffixes=[None, '_p'])\n",
    "    #---your code stops here---\n",
    "    \n",
    "    \n",
    "    ## merge on the player data\n",
    "    #---your code starts here---\n",
    "    merged = merged.merge(mf, on=['playerID'], how='left')\n",
    "\n",
    "    #---your code stops here---\n",
    "    \n",
    "    ## merge on the pitching data\n",
    "    #---your code starts here---\n",
    "    merged = merged.merge(pf, on=['playerID','yearID','teamID'], how='left', suffixes=[None, '_p'])\n",
    "\n",
    "    #---your code stops here---\n",
    "    \n",
    "    ## merge on the salaries data\n",
    "    #---your code starts here---\n",
    "    merged = merged.merge(sf, on=['playerID','yearID','teamID'], how='left')\n",
    " \n",
    "    #---your code stops here---\n",
    "    \n",
    "    ## merge on the teams data\n",
    "    #---your code starts here---\n",
    "    merged = merged.merge(tf, on=['yearID','teamID'], how='left')\n",
    " \n",
    "    #---your code stops here---\n",
    "\n",
    "    return merged\n",
    "    \n",
    "    "
   ]
  },
  {
   "cell_type": "code",
   "execution_count": 88,
   "id": "453554a7",
   "metadata": {},
   "outputs": [
    {
     "name": "stdout",
     "output_type": "stream",
     "text": [
      "   yearID teamID   playerID    G   AB    R    H  2B  3B  HR  ...    W    L  \\\n",
      "0    2008    BOS  aardsda01   47    1    0    0   0   0   0  ...  4.0  2.0   \n",
      "1    2008    HOU  abercre01   34   55   10   17   5   0   2  ...  NaN  NaN   \n",
      "2    2008    NYA  abreubo01  156  609  100  180  39   4  20  ...  NaN  NaN   \n",
      "3    2008    TOR  accarje01   16    0    0    0   0   0   0  ...  0.0  3.0   \n",
      "4    2008    NYA  aceveal01    6    0    0    0   0   0   0  ...  1.0  0.0   \n",
      "\n",
      "    G_p   H_p    ER  HR_p  HBP_p  SO_p      salary               name  \n",
      "0  47.0  49.0  30.0   4.0    5.0  49.0    403250.0     Boston Red Sox  \n",
      "1   NaN   NaN   NaN   NaN    NaN   NaN         NaN     Houston Astros  \n",
      "2   NaN   NaN   NaN   NaN    NaN   NaN  16000000.0   New York Yankees  \n",
      "3  16.0  15.0   9.0   1.0    1.0   5.0    392200.0  Toronto Blue Jays  \n",
      "4   6.0  25.0   8.0   4.0    0.0  16.0         NaN   New York Yankees  \n",
      "\n",
      "[5 rows x 31 columns]\n"
     ]
    }
   ],
   "source": [
    "#Sanity check\n",
    "\n",
    "merged = MergeTables(2008, all)\n",
    "print(merged.head())"
   ]
  },
  {
   "cell_type": "code",
   "execution_count": 89,
   "id": "4f0d46c9",
   "metadata": {},
   "outputs": [
    {
     "data": {
      "text/plain": [
       "729"
      ]
     },
     "execution_count": 89,
     "metadata": {},
     "output_type": "execute_result"
    }
   ],
   "source": [
    "#Counting NaN values in the salary column\n",
    "merged[\"salary\"].isna().sum()"
   ]
  },
  {
   "cell_type": "code",
   "execution_count": 90,
   "id": "cc22aebe",
   "metadata": {},
   "outputs": [],
   "source": [
    "#Replace NaN values with zeros \n",
    "merged.fillna(value=0.0,inplace=True)"
   ]
  },
  {
   "cell_type": "code",
   "execution_count": 91,
   "id": "577e051a",
   "metadata": {},
   "outputs": [
    {
     "data": {
      "text/plain": [
       "0"
      ]
     },
     "execution_count": 91,
     "metadata": {},
     "output_type": "execute_result"
    }
   ],
   "source": [
    "merged['salary'].isna().sum()"
   ]
  },
  {
   "cell_type": "code",
   "execution_count": null,
   "id": "b4939272",
   "metadata": {},
   "outputs": [],
   "source": []
  }
 ],
 "metadata": {
  "kernelspec": {
   "display_name": "Python 3",
   "language": "python",
   "name": "python3"
  },
  "language_info": {
   "codemirror_mode": {
    "name": "ipython",
    "version": 3
   },
   "file_extension": ".py",
   "mimetype": "text/x-python",
   "name": "python",
   "nbconvert_exporter": "python",
   "pygments_lexer": "ipython3",
   "version": "3.8.8"
  }
 },
 "nbformat": 4,
 "nbformat_minor": 5
}
